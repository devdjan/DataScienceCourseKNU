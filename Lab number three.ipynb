{
 "cells": [
  {
   "cell_type": "markdown",
   "metadata": {},
   "source": [
    "### Задания"
   ]
  },
  {
   "cell_type": "markdown",
   "metadata": {},
   "source": [
    "1. Функція add2(x, y), яка повертає суму двох чисел.\n",
    "2. Функція above(x,n),яка приймає вектор та число n,таповертаєвсі\n",
    "елементі вектору, які більше n. По замовчуванню n = 10.\n",
    "3. Функція my_ifelse(x,exp,n),яка приймає вектор x,порівнює всі його\n",
    "елементи за допомогою exp з n, та повертає елементи вектору, які відповідають умові expression. Наприклад, my_ifelse(x, “>”, 0) повертає всі елементи x, які більші 0. Exp може дорівнювати “<”, “>”, “<=”, “>=”, “==”. Якщо exp не співпадає ні з одним з цих виразів, повертається вектор x.\n",
    "4. Функція columnmean(x,removeNA),яка розраховує середнє значення (mean) по кожному стовпцю матриці, або data frame. Логічний параметр removeNA вказує, чи видаляти NA значення. По замовчуванню він дорівнює TRUE."
   ]
  },
  {
   "cell_type": "markdown",
   "metadata": {},
   "source": [
    "Импортируем библиотеки, которые будем использовать:\n"
   ]
  },
  {
   "cell_type": "code",
   "execution_count": 1,
   "metadata": {},
   "outputs": [],
   "source": [
    "import pandas as pd\n",
    "import numpy as np\n",
    "import random"
   ]
  },
  {
   "cell_type": "markdown",
   "metadata": {},
   "source": [
    "#### Первая задача\n",
    "add2(x, y)"
   ]
  },
  {
   "cell_type": "code",
   "execution_count": 2,
   "metadata": {},
   "outputs": [
    {
     "data": {
      "text/plain": [
       "8"
      ]
     },
     "execution_count": 2,
     "metadata": {},
     "output_type": "execute_result"
    }
   ],
   "source": [
    "def add2(x, y):\n",
    "    return x + y\n",
    "add2(3, 5)"
   ]
  },
  {
   "cell_type": "markdown",
   "metadata": {},
   "source": [
    "#### Вторая Задача\n",
    "above(x,n)"
   ]
  },
  {
   "cell_type": "code",
   "execution_count": 3,
   "metadata": {},
   "outputs": [],
   "source": [
    "vector = [1,2,3,4,5,6,7,8,9]"
   ]
  },
  {
   "cell_type": "code",
   "execution_count": 4,
   "metadata": {},
   "outputs": [
    {
     "name": "stdout",
     "output_type": "stream",
     "text": [
      "1\n",
      "2\n",
      "Число 2 меньше 3\n",
      "Число 2 меньше 4\n",
      "Число 2 меньше 5\n",
      "Число 2 меньше 6\n",
      "Число 2 меньше 7\n",
      "Число 2 меньше 8\n",
      "Число 2 меньше 9\n"
     ]
    }
   ],
   "source": [
    "def above(x, n = 10):\n",
    "    for i in x:\n",
    "        if n >= i:\n",
    "            print(i)\n",
    "        else:\n",
    "            print(f'Число {n} меньше {i}')\n",
    "above(vector, 2)"
   ]
  },
  {
   "cell_type": "code",
   "execution_count": 5,
   "metadata": {},
   "outputs": [
    {
     "name": "stdout",
     "output_type": "stream",
     "text": [
      "1\n",
      "2\n",
      "3\n",
      "4\n",
      "5\n",
      "6\n",
      "7\n",
      "8\n",
      "9\n"
     ]
    }
   ],
   "source": [
    "above(vector)"
   ]
  },
  {
   "cell_type": "markdown",
   "metadata": {},
   "source": [
    "#### Третья задача\n",
    "my_ifelse(x,exp,n). Вставка кода на языке R. "
   ]
  },
  {
   "cell_type": "markdown",
   "metadata": {},
   "source": [
    "```r\n",
    "\tmy_ifelse<-function(x,exp,n){\n",
    "\n",
    "\n",
    "\t  if (exp == \"<\"){\n",
    "\t    return(x[x<n])\n",
    "\t  }\n",
    "\t  else if (exp==\">\"){\n",
    "\t    return(x[x>n])\n",
    "\t  }\n",
    "\t  else if (exp==\"<=\"){\n",
    "\t    return(x[x<=n])\n",
    "\t  }\n",
    "\t  else if (exp==\">=\"){\n",
    "\t    return(x[x>=n])\n",
    "\t  }\n",
    "\t  else if (exp==\"==\"){\n",
    "\t    return(x[x==n])\n",
    "\t  }\n",
    "\t  else x\n",
    "\t}\n",
    "\n",
    "\tmy_ifelse(x, '>=', 4)\n",
    "    [1] 19  9 14  8 18 12 13 17\n",
    "\t```"
   ]
  },
  {
   "cell_type": "markdown",
   "metadata": {},
   "source": [
    "#### Четвертая задача\n",
    "columnmean(x,removeNA). Вставка кода на языке R. "
   ]
  },
  {
   "cell_type": "markdown",
   "metadata": {},
   "source": [
    "```r\n",
    "columnmean <- function(x, removeNA = TRUE) {\n",
    "    return(colMeans(x, na.rm = removeNA))\n",
    "}\n",
    "\n",
    "```"
   ]
  },
  {
   "cell_type": "markdown",
   "metadata": {},
   "source": [
    "```r\n",
    "columnmean(matrix(c(20, NA, 18, NA, 16, 14, NA, 12), nrow = 2, ncol = 4), TRUE)\n",
    "[1] 20 18 15 12\n",
    "```"
   ]
  },
  {
   "cell_type": "code",
   "execution_count": null,
   "metadata": {},
   "outputs": [],
   "source": []
  }
 ],
 "metadata": {
  "kernelspec": {
   "display_name": "Python 3",
   "language": "python",
   "name": "python3"
  },
  "language_info": {
   "codemirror_mode": {
    "name": "ipython",
    "version": 3
   },
   "file_extension": ".py",
   "mimetype": "text/x-python",
   "name": "python",
   "nbconvert_exporter": "python",
   "pygments_lexer": "ipython3",
   "version": "3.6.4"
  }
 },
 "nbformat": 4,
 "nbformat_minor": 2
}
