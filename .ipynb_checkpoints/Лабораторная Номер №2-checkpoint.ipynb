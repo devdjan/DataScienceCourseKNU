{
 "cells": [
  {
   "cell_type": "markdown",
   "metadata": {},
   "source": [
    "### Задания"
   ]
  },
  {
   "cell_type": "markdown",
   "metadata": {},
   "source": [
    "В лабораторній роботі необхідно виконати наступні дії:\n",
    "1. Створит вектор v із 100 елементів командою v<-rnorm(100).Для цього\n",
    "вектору виведіть: 10-й елемент; елементи з 10-го по 20-й включно; 10\n",
    "елементів починаючи з 20-го; елементи більше 0.\n",
    "2. Створити фрейм (data frame) y командою y <- data.frame(a = rnorm(100), b\n",
    "= 1:100, cc = sample(letters, 100, replace = TRUE)). Для цього data frame виведіть: останні 10 строк; строки з 10 по 20 включно; 10-й елемент стовпця b; повністю стовпець cc, при цьому використайте ім’я стовпця.\n",
    "3. Створити вектор z з елементами 1,2,3,NA,4,NA,5,NA.Для цього вектору: виведіть всі елементи, які не NA; підрахуйте середнє значення всіх елементів цього вектору без NA значень та з NA значеннями."
   ]
  },
  {
   "cell_type": "markdown",
   "metadata": {},
   "source": [
    "Импортируем библиотеки, которые будем использовать:\n"
   ]
  },
  {
   "cell_type": "code",
   "execution_count": 1,
   "metadata": {},
   "outputs": [],
   "source": [
    "import pandas as pd\n",
    "import numpy as np\n",
    "import random"
   ]
  },
  {
   "cell_type": "code",
   "execution_count": 2,
   "metadata": {},
   "outputs": [
    {
     "data": {
      "text/plain": [
       "10"
      ]
     },
     "execution_count": 2,
     "metadata": {},
     "output_type": "execute_result"
    }
   ],
   "source": [
    "vector = []\n",
    "for i in range(100):\n",
    "    vector.append(i)\n",
    "# Выводим 10тый элемент\n",
    "vector[10]"
   ]
  },
  {
   "cell_type": "markdown",
   "metadata": {},
   "source": [
    "#### Первая Задача\n",
    "Выводим елементы: \"з 10-го по 20-й включно; 10 елементів починаючи з 20-го; елементи більше 0.\""
   ]
  },
  {
   "cell_type": "code",
   "execution_count": 3,
   "metadata": {},
   "outputs": [
    {
     "name": "stdout",
     "output_type": "stream",
     "text": [
      "\n",
      "Выводим с 10-го по 20-й включительно:\n",
      "10\n",
      "\n",
      "Выводим 10 элементов начиная с 20-го:\n",
      "[20, 21, 22, 23, 24, 25, 26, 27, 28, 29, 30]\n",
      "\n",
      "Элементы которые > 0:\n",
      "1 2 3 4 5 6 7 8 9 10 11 12 13 14 15 16 17 18 19 20 21 22 23 24 25 26 27 28 29 30 31 32 33 34 35 36 37 38 39 40 41 42 43 44 45 46 47 48 49 50 51 52 53 54 55 56 57 58 59 60 61 62 63 64 65 66 67 68 69 70 71 72 73 74 75 76 77 78 79 80 81 82 83 84 85 86 87 88 89 90 91 92 93 94 95 96 97 98 99 "
     ]
    }
   ],
   "source": [
    "print(\"\\nВыводим с 10-го по 20-й включительно:\")\n",
    "print(vector[10])\n",
    "print(\"\\nВыводим 10 элементов начиная с 20-го:\")\n",
    "print(vector[20:31])\n",
    "\n",
    "for i in vector:\n",
    "    counter = []\n",
    "    if i > 0:\n",
    "        counter.append(i)\n",
    "        print(i, end=\" \")\n",
    "    else:\n",
    "        print(\"\\nЭлементы которые > 0:\")"
   ]
  },
  {
   "cell_type": "markdown",
   "metadata": {},
   "source": [
    "#### Вторая Задача\n",
    "Виведіть: останні 10 строк; строки з 10 по 20 включно; 10-й елемент стовпця b; повністю стовпець cc, при цьому використайте ім’я стовпця"
   ]
  },
  {
   "cell_type": "code",
   "execution_count": 4,
   "metadata": {},
   "outputs": [],
   "source": [
    "# Creating dataframe\n",
    "# Создаем фрейм используя наш вектор на 100 элементов\n",
    "names = ['A', 'B', 'CC']\n",
    "df = pd.DataFrame(np.random.randn(100, 3), columns=list(names))"
   ]
  },
  {
   "cell_type": "code",
   "execution_count": 5,
   "metadata": {},
   "outputs": [
    {
     "name": "stdout",
     "output_type": "stream",
     "text": [
      "Выводим последние 10 строк:\n"
     ]
    },
    {
     "data": {
      "text/html": [
       "<div>\n",
       "<style scoped>\n",
       "    .dataframe tbody tr th:only-of-type {\n",
       "        vertical-align: middle;\n",
       "    }\n",
       "\n",
       "    .dataframe tbody tr th {\n",
       "        vertical-align: top;\n",
       "    }\n",
       "\n",
       "    .dataframe thead th {\n",
       "        text-align: right;\n",
       "    }\n",
       "</style>\n",
       "<table border=\"1\" class=\"dataframe\">\n",
       "  <thead>\n",
       "    <tr style=\"text-align: right;\">\n",
       "      <th></th>\n",
       "      <th>A</th>\n",
       "      <th>B</th>\n",
       "      <th>CC</th>\n",
       "    </tr>\n",
       "  </thead>\n",
       "  <tbody>\n",
       "    <tr>\n",
       "      <th>90</th>\n",
       "      <td>0.612581</td>\n",
       "      <td>-0.912278</td>\n",
       "      <td>-0.956922</td>\n",
       "    </tr>\n",
       "    <tr>\n",
       "      <th>91</th>\n",
       "      <td>-0.103240</td>\n",
       "      <td>-0.649813</td>\n",
       "      <td>0.819858</td>\n",
       "    </tr>\n",
       "    <tr>\n",
       "      <th>92</th>\n",
       "      <td>-1.423301</td>\n",
       "      <td>0.568752</td>\n",
       "      <td>-1.615302</td>\n",
       "    </tr>\n",
       "    <tr>\n",
       "      <th>93</th>\n",
       "      <td>1.685871</td>\n",
       "      <td>0.900474</td>\n",
       "      <td>0.922306</td>\n",
       "    </tr>\n",
       "    <tr>\n",
       "      <th>94</th>\n",
       "      <td>-0.560874</td>\n",
       "      <td>2.160402</td>\n",
       "      <td>0.399433</td>\n",
       "    </tr>\n",
       "    <tr>\n",
       "      <th>95</th>\n",
       "      <td>0.079230</td>\n",
       "      <td>1.588109</td>\n",
       "      <td>-0.087649</td>\n",
       "    </tr>\n",
       "    <tr>\n",
       "      <th>96</th>\n",
       "      <td>-0.005454</td>\n",
       "      <td>0.209928</td>\n",
       "      <td>-0.394518</td>\n",
       "    </tr>\n",
       "    <tr>\n",
       "      <th>97</th>\n",
       "      <td>-0.082897</td>\n",
       "      <td>-1.200568</td>\n",
       "      <td>-0.230870</td>\n",
       "    </tr>\n",
       "    <tr>\n",
       "      <th>98</th>\n",
       "      <td>1.344952</td>\n",
       "      <td>1.724355</td>\n",
       "      <td>-0.179523</td>\n",
       "    </tr>\n",
       "    <tr>\n",
       "      <th>99</th>\n",
       "      <td>2.986940</td>\n",
       "      <td>1.646235</td>\n",
       "      <td>-0.978427</td>\n",
       "    </tr>\n",
       "  </tbody>\n",
       "</table>\n",
       "</div>"
      ],
      "text/plain": [
       "           A         B        CC\n",
       "90  0.612581 -0.912278 -0.956922\n",
       "91 -0.103240 -0.649813  0.819858\n",
       "92 -1.423301  0.568752 -1.615302\n",
       "93  1.685871  0.900474  0.922306\n",
       "94 -0.560874  2.160402  0.399433\n",
       "95  0.079230  1.588109 -0.087649\n",
       "96 -0.005454  0.209928 -0.394518\n",
       "97 -0.082897 -1.200568 -0.230870\n",
       "98  1.344952  1.724355 -0.179523\n",
       "99  2.986940  1.646235 -0.978427"
      ]
     },
     "execution_count": 5,
     "metadata": {},
     "output_type": "execute_result"
    }
   ],
   "source": [
    "print(\"Выводим последние 10 строк:\")\n",
    "df.iloc[-10:]"
   ]
  },
  {
   "cell_type": "code",
   "execution_count": 6,
   "metadata": {},
   "outputs": [
    {
     "name": "stdout",
     "output_type": "stream",
     "text": [
      "Выводим строки з 10 по 20 включительно:\n"
     ]
    },
    {
     "data": {
      "text/html": [
       "<div>\n",
       "<style scoped>\n",
       "    .dataframe tbody tr th:only-of-type {\n",
       "        vertical-align: middle;\n",
       "    }\n",
       "\n",
       "    .dataframe tbody tr th {\n",
       "        vertical-align: top;\n",
       "    }\n",
       "\n",
       "    .dataframe thead th {\n",
       "        text-align: right;\n",
       "    }\n",
       "</style>\n",
       "<table border=\"1\" class=\"dataframe\">\n",
       "  <thead>\n",
       "    <tr style=\"text-align: right;\">\n",
       "      <th></th>\n",
       "      <th>A</th>\n",
       "      <th>B</th>\n",
       "      <th>CC</th>\n",
       "    </tr>\n",
       "  </thead>\n",
       "  <tbody>\n",
       "    <tr>\n",
       "      <th>10</th>\n",
       "      <td>-1.295489</td>\n",
       "      <td>0.220705</td>\n",
       "      <td>-2.303635</td>\n",
       "    </tr>\n",
       "    <tr>\n",
       "      <th>11</th>\n",
       "      <td>1.202112</td>\n",
       "      <td>0.431357</td>\n",
       "      <td>-0.892175</td>\n",
       "    </tr>\n",
       "    <tr>\n",
       "      <th>12</th>\n",
       "      <td>0.708383</td>\n",
       "      <td>1.985399</td>\n",
       "      <td>-1.303970</td>\n",
       "    </tr>\n",
       "    <tr>\n",
       "      <th>13</th>\n",
       "      <td>-0.364728</td>\n",
       "      <td>1.895378</td>\n",
       "      <td>1.354322</td>\n",
       "    </tr>\n",
       "    <tr>\n",
       "      <th>14</th>\n",
       "      <td>-0.894455</td>\n",
       "      <td>-0.107596</td>\n",
       "      <td>1.213015</td>\n",
       "    </tr>\n",
       "    <tr>\n",
       "      <th>15</th>\n",
       "      <td>0.107591</td>\n",
       "      <td>-0.983055</td>\n",
       "      <td>1.242052</td>\n",
       "    </tr>\n",
       "    <tr>\n",
       "      <th>16</th>\n",
       "      <td>-1.029504</td>\n",
       "      <td>-1.711324</td>\n",
       "      <td>1.412363</td>\n",
       "    </tr>\n",
       "    <tr>\n",
       "      <th>17</th>\n",
       "      <td>-0.199171</td>\n",
       "      <td>0.498665</td>\n",
       "      <td>0.011825</td>\n",
       "    </tr>\n",
       "    <tr>\n",
       "      <th>18</th>\n",
       "      <td>1.016207</td>\n",
       "      <td>-0.316969</td>\n",
       "      <td>0.660876</td>\n",
       "    </tr>\n",
       "    <tr>\n",
       "      <th>19</th>\n",
       "      <td>1.066572</td>\n",
       "      <td>-0.243696</td>\n",
       "      <td>-0.262158</td>\n",
       "    </tr>\n",
       "    <tr>\n",
       "      <th>20</th>\n",
       "      <td>0.765765</td>\n",
       "      <td>0.854469</td>\n",
       "      <td>-1.170207</td>\n",
       "    </tr>\n",
       "  </tbody>\n",
       "</table>\n",
       "</div>"
      ],
      "text/plain": [
       "           A         B        CC\n",
       "10 -1.295489  0.220705 -2.303635\n",
       "11  1.202112  0.431357 -0.892175\n",
       "12  0.708383  1.985399 -1.303970\n",
       "13 -0.364728  1.895378  1.354322\n",
       "14 -0.894455 -0.107596  1.213015\n",
       "15  0.107591 -0.983055  1.242052\n",
       "16 -1.029504 -1.711324  1.412363\n",
       "17 -0.199171  0.498665  0.011825\n",
       "18  1.016207 -0.316969  0.660876\n",
       "19  1.066572 -0.243696 -0.262158\n",
       "20  0.765765  0.854469 -1.170207"
      ]
     },
     "execution_count": 6,
     "metadata": {},
     "output_type": "execute_result"
    }
   ],
   "source": [
    "print(\"Выводим строки з 10 по 20 включительно:\")\n",
    "df.iloc[10:21]"
   ]
  },
  {
   "cell_type": "code",
   "execution_count": 7,
   "metadata": {},
   "outputs": [
    {
     "name": "stdout",
     "output_type": "stream",
     "text": [
      "Выводим десятый элемент столбца Values:\n"
     ]
    },
    {
     "data": {
      "text/plain": [
       "0.2207045470177203"
      ]
     },
     "execution_count": 7,
     "metadata": {},
     "output_type": "execute_result"
    }
   ],
   "source": [
    "print(\"Выводим десятый элемент столбца Values:\")\n",
    "df['B'][10]"
   ]
  },
  {
   "cell_type": "code",
   "execution_count": 8,
   "metadata": {},
   "outputs": [
    {
     "name": "stdout",
     "output_type": "stream",
     "text": [
      "Выводим полностью стольбец 'cc', при этом обращаясь(сипользуя)имя столбца:\n"
     ]
    },
    {
     "data": {
      "text/plain": [
       "0    -0.220399\n",
       "1    -1.029605\n",
       "2    -0.244758\n",
       "3    -0.409132\n",
       "4    -2.058154\n",
       "5    -1.086848\n",
       "6    -0.667042\n",
       "7    -0.484025\n",
       "8    -1.979766\n",
       "9    -0.542355\n",
       "10   -2.303635\n",
       "11   -0.892175\n",
       "12   -1.303970\n",
       "13    1.354322\n",
       "14    1.213015\n",
       "15    1.242052\n",
       "16    1.412363\n",
       "17    0.011825\n",
       "18    0.660876\n",
       "19   -0.262158\n",
       "20   -1.170207\n",
       "21    0.067431\n",
       "22    0.120655\n",
       "23   -0.804077\n",
       "24    0.347743\n",
       "25    0.601983\n",
       "26    1.203600\n",
       "27    0.933199\n",
       "28   -0.578742\n",
       "29    1.026208\n",
       "        ...   \n",
       "70   -0.244738\n",
       "71    0.744235\n",
       "72   -1.033436\n",
       "73   -1.127074\n",
       "74    1.294001\n",
       "75   -1.504344\n",
       "76    1.217311\n",
       "77   -2.074925\n",
       "78   -0.922600\n",
       "79    2.097800\n",
       "80   -2.370480\n",
       "81    0.299891\n",
       "82   -0.172664\n",
       "83    0.395576\n",
       "84    0.603204\n",
       "85   -0.724010\n",
       "86    0.531667\n",
       "87    3.326224\n",
       "88   -0.842832\n",
       "89   -0.086263\n",
       "90   -0.956922\n",
       "91    0.819858\n",
       "92   -1.615302\n",
       "93    0.922306\n",
       "94    0.399433\n",
       "95   -0.087649\n",
       "96   -0.394518\n",
       "97   -0.230870\n",
       "98   -0.179523\n",
       "99   -0.978427\n",
       "Name: CC, Length: 100, dtype: float64"
      ]
     },
     "execution_count": 8,
     "metadata": {},
     "output_type": "execute_result"
    }
   ],
   "source": [
    "print(\"Выводим полностью стольбец 'cc', при этом обращаясь(сипользуя)имя столбца:\")\n",
    "df['CC']"
   ]
  },
  {
   "cell_type": "markdown",
   "metadata": {},
   "source": [
    "#### Третья Задача\n",
    "Створити вектор z з елементами 1,2,3,NA,4,NA,5,NA.Дляцього вектору: виведіть всі елементи, які не NA; підрахуйте середнє значення всіх елементів цього вектору без NA значень та з NA значеннями."
   ]
  },
  {
   "cell_type": "code",
   "execution_count": 9,
   "metadata": {},
   "outputs": [
    {
     "data": {
      "text/html": [
       "<div>\n",
       "<style scoped>\n",
       "    .dataframe tbody tr th:only-of-type {\n",
       "        vertical-align: middle;\n",
       "    }\n",
       "\n",
       "    .dataframe tbody tr th {\n",
       "        vertical-align: top;\n",
       "    }\n",
       "\n",
       "    .dataframe thead th {\n",
       "        text-align: right;\n",
       "    }\n",
       "</style>\n",
       "<table border=\"1\" class=\"dataframe\">\n",
       "  <thead>\n",
       "    <tr style=\"text-align: right;\">\n",
       "      <th></th>\n",
       "      <th>0</th>\n",
       "      <th>1</th>\n",
       "      <th>2</th>\n",
       "      <th>3</th>\n",
       "      <th>4</th>\n",
       "      <th>5</th>\n",
       "    </tr>\n",
       "  </thead>\n",
       "  <tbody>\n",
       "    <tr>\n",
       "      <th>0</th>\n",
       "      <td>2</td>\n",
       "      <td>8.0</td>\n",
       "      <td>4</td>\n",
       "      <td>4.0</td>\n",
       "      <td>NaN</td>\n",
       "      <td>2</td>\n",
       "    </tr>\n",
       "    <tr>\n",
       "      <th>1</th>\n",
       "      <td>3</td>\n",
       "      <td>5.0</td>\n",
       "      <td>6</td>\n",
       "      <td>NaN</td>\n",
       "      <td>5.0</td>\n",
       "      <td>3</td>\n",
       "    </tr>\n",
       "    <tr>\n",
       "      <th>2</th>\n",
       "      <td>5</td>\n",
       "      <td>NaN</td>\n",
       "      <td>2</td>\n",
       "      <td>1.0</td>\n",
       "      <td>13.0</td>\n",
       "      <td>23</td>\n",
       "    </tr>\n",
       "  </tbody>\n",
       "</table>\n",
       "</div>"
      ],
      "text/plain": [
       "   0    1  2    3     4   5\n",
       "0  2  8.0  4  4.0   NaN   2\n",
       "1  3  5.0  6  NaN   5.0   3\n",
       "2  5  NaN  2  1.0  13.0  23"
      ]
     },
     "execution_count": 9,
     "metadata": {},
     "output_type": "execute_result"
    }
   ],
   "source": [
    "df_1 = pd.DataFrame([[2,8,4,4,np.nan,2],[3,5,6,np.nan,5,3], [5, np.nan, 2, 1, 13, 23]])\n",
    "df_1"
   ]
  },
  {
   "cell_type": "code",
   "execution_count": 10,
   "metadata": {},
   "outputs": [
    {
     "data": {
      "text/plain": [
       "0    1.0\n",
       "1    2.0\n",
       "2    3.0\n",
       "3    NaN\n",
       "4    4.0\n",
       "5    NaN\n",
       "6    5.0\n",
       "7    NaN\n",
       "dtype: float64"
      ]
     },
     "execution_count": 10,
     "metadata": {},
     "output_type": "execute_result"
    }
   ],
   "source": [
    "a = pd.Series([1, 2, 3, np.nan, 4, np.nan, 5, np.nan])\n",
    "a"
   ]
  },
  {
   "cell_type": "markdown",
   "metadata": {},
   "source": [
    "Посчитаем сколько элементов у нас со значением - NaN"
   ]
  },
  {
   "cell_type": "code",
   "execution_count": 11,
   "metadata": {},
   "outputs": [
    {
     "data": {
      "text/plain": [
       "3"
      ]
     },
     "execution_count": 11,
     "metadata": {},
     "output_type": "execute_result"
    }
   ],
   "source": [
    "a.isnull().sum()"
   ]
  },
  {
   "cell_type": "markdown",
   "metadata": {},
   "source": [
    "Посчитаем сколько элементов у нас со значением - not NaN"
   ]
  },
  {
   "cell_type": "code",
   "execution_count": 12,
   "metadata": {},
   "outputs": [
    {
     "data": {
      "text/plain": [
       "5"
      ]
     },
     "execution_count": 12,
     "metadata": {},
     "output_type": "execute_result"
    }
   ],
   "source": [
    "def not_a_nan(a):\n",
    "    counter = 0\n",
    "    for i in a:\n",
    "        if not np.isnan(i):\n",
    "            counter += 1\n",
    "    return counter\n",
    "# Print all non nan values\n",
    "not_a_nan(a)"
   ]
  },
  {
   "cell_type": "markdown",
   "metadata": {},
   "source": [
    "Посчитаем среднее значение всех элементов учитывая NaN значения"
   ]
  },
  {
   "cell_type": "code",
   "execution_count": 13,
   "metadata": {},
   "outputs": [
    {
     "data": {
      "text/plain": [
       "1.875"
      ]
     },
     "execution_count": 13,
     "metadata": {},
     "output_type": "execute_result"
    }
   ],
   "source": [
    "a.fillna(0).mean()"
   ]
  },
  {
   "cell_type": "markdown",
   "metadata": {},
   "source": [
    "Посчитаем среднее значение всех элементов не учитывая NaN значения"
   ]
  },
  {
   "cell_type": "code",
   "execution_count": 14,
   "metadata": {},
   "outputs": [
    {
     "data": {
      "text/plain": [
       "3.0"
      ]
     },
     "execution_count": 14,
     "metadata": {},
     "output_type": "execute_result"
    }
   ],
   "source": [
    "a.mean()"
   ]
  },
  {
   "cell_type": "code",
   "execution_count": null,
   "metadata": {},
   "outputs": [],
   "source": []
  }
 ],
 "metadata": {
  "kernelspec": {
   "display_name": "Python 3",
   "language": "python",
   "name": "python3"
  },
  "language_info": {
   "codemirror_mode": {
    "name": "ipython",
    "version": 3
   },
   "file_extension": ".py",
   "mimetype": "text/x-python",
   "name": "python",
   "nbconvert_exporter": "python",
   "pygments_lexer": "ipython3",
   "version": "3.6.4"
  }
 },
 "nbformat": 4,
 "nbformat_minor": 2
}
